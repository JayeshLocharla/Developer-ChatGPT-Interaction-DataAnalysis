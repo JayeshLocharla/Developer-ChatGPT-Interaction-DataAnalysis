{
  "nbformat": 4,
  "nbformat_minor": 0,
  "metadata": {
    "colab": {
      "provenance": []
    },
    "kernelspec": {
      "name": "python3",
      "display_name": "Python 3"
    },
    "language_info": {
      "name": "python"
    }
  },
  "cells": [
    {
      "cell_type": "code",
      "execution_count": 1,
      "metadata": {
        "colab": {
          "base_uri": "https://localhost:8080/"
        },
        "id": "-4OM-qg4uwgN",
        "outputId": "b3f02a3f-f0d0-43f5-9ad5-9cbca62b5dad"
      },
      "outputs": [
        {
          "output_type": "stream",
          "name": "stdout",
          "text": [
            "Mounted at /content/drive/\n"
          ]
        }
      ],
      "source": [
        "from google.colab import drive\n",
        "drive.mount('/content/drive/')"
      ]
    },
    {
      "cell_type": "markdown",
      "source": [
        "### Import Libraries"
      ],
      "metadata": {
        "id": "xPKh8KEVvCss"
      }
    },
    {
      "cell_type": "code",
      "source": [
        "import json\n",
        "from sklearn.feature_extraction.text import TfidfVectorizer\n",
        "from sklearn.model_selection import train_test_split\n",
        "from sklearn.ensemble import RandomForestClassifier\n",
        "from sklearn.metrics import accuracy_score, classification_report, confusion_matrix\n",
        "import seaborn as sns\n",
        "import matplotlib.pyplot as plt\n",
        "from sklearn.metrics.pairwise import cosine_similarity"
      ],
      "metadata": {
        "id": "CYgyN54Qu5yn"
      },
      "execution_count": 10,
      "outputs": []
    },
    {
      "cell_type": "markdown",
      "source": [
        "### Load and Prepare Data"
      ],
      "metadata": {
        "id": "lfh9rZFUvKq6"
      }
    },
    {
      "cell_type": "code",
      "source": [
        "# Load the dataset from the GitHub JSON file\n",
        "with open('/content/drive/MyDrive/Model/github_data.json', 'r') as f:\n",
        "    github_data = json.load(f)\n",
        "\n",
        "# Load the dataset from the OpenAI API JSON file\n",
        "with open('/content/drive/MyDrive/Model/openai_api_data.json', 'r') as f:\n",
        "    openai_api_data = json.load(f)\n",
        "\n",
        "# Extract prompts and answers from both datasets\n",
        "prompts = [item['Prompt'] for item in github_data]\n",
        "\n",
        "# Assuming both JSON files have responses in the same order as prompts\n",
        "github_answers = [item['Answer'] for item in github_data]\n",
        "openai_api_answers = [item['Answer'] for item in openai_api_data]\n",
        "\n",
        "# # Assuming similarity_scores is a 2D array with shape (num_prompts, num_responses)\n",
        "# similarity_scores = cosine_similarity(github_answers_vectorized, openai_api_answers_vectorized)\n",
        "\n",
        "# # Flatten similarity scores to a 1D array\n",
        "# flattened_scores = similarity_scores.flatten()\n",
        "\n",
        "# Create labels (1 for similar, 0 for not similar)\n",
        "labels = [1] * len(prompts)\n"
      ],
      "metadata": {
        "id": "dA4mxworvHT-"
      },
      "execution_count": 15,
      "outputs": []
    },
    {
      "cell_type": "markdown",
      "source": [
        "### Vectorize Text Data (TF-IDF Vectorization)"
      ],
      "metadata": {
        "id": "hyMNBoNdwmiE"
      }
    },
    {
      "cell_type": "code",
      "source": [
        "# Use TF-IDF vectorization for text data\n",
        "vectorizer = TfidfVectorizer()\n",
        "github_answers_vectorized = vectorizer.fit_transform(github_answers)\n",
        "openai_api_answers_vectorized = vectorizer.transform(openai_api_answers)\n",
        "\n",
        "# Assuming similarity_scores is a 2D array with shape (num_prompts, num_responses)\n",
        "similarity_scores = cosine_similarity(github_answers_vectorized, openai_api_answers_vectorized)\n",
        "\n",
        "# Flatten similarity scores to a 1D array\n",
        "flattened_scores = similarity_scores.flatten()\n"
      ],
      "metadata": {
        "id": "owWo2wEnvNAW"
      },
      "execution_count": 16,
      "outputs": []
    },
    {
      "cell_type": "markdown",
      "source": [
        "### Reshape Data and Train-Test Split"
      ],
      "metadata": {
        "id": "9DLPnV7_w812"
      }
    },
    {
      "cell_type": "code",
      "source": [
        "# Create labels (1 for similar, 0 for not similar)\n",
        "labels = [1] * (len(flattened_scores) // 2) + [0] * (len(flattened_scores) - len(flattened_scores) // 2)\n",
        "\n",
        "# Reshape the data for compatibility with scikit-learn\n",
        "X = flattened_scores.reshape(-1, 1)\n",
        "\n",
        "# Make sure the length of labels matches the number of samples in X\n",
        "y = labels[:len(flattened_scores)]\n",
        "\n",
        "# Split the data into training and testing sets\n",
        "X_train, X_test, y_train, y_test = train_test_split(X, y, test_size=0.2, random_state=42)\n"
      ],
      "metadata": {
        "id": "FKyxWZGcw7C0"
      },
      "execution_count": 22,
      "outputs": []
    },
    {
      "cell_type": "markdown",
      "source": [
        "### Train Random Forest Model"
      ],
      "metadata": {
        "id": "Zl5xMIN3yOoS"
      }
    },
    {
      "cell_type": "code",
      "source": [
        "# Create and train a Random Forest model\n",
        "rf_model = RandomForestClassifier(n_estimators=100, random_state=42)\n",
        "rf_model.fit(X_train, y_train)\n"
      ],
      "metadata": {
        "colab": {
          "base_uri": "https://localhost:8080/",
          "height": 74
        },
        "id": "qp_XWq71yD1y",
        "outputId": "7f036505-56d9-4c70-febc-f6f525109ce4"
      },
      "execution_count": 23,
      "outputs": [
        {
          "output_type": "execute_result",
          "data": {
            "text/plain": [
              "RandomForestClassifier(random_state=42)"
            ],
            "text/html": [
              "<style>#sk-container-id-1 {color: black;background-color: white;}#sk-container-id-1 pre{padding: 0;}#sk-container-id-1 div.sk-toggleable {background-color: white;}#sk-container-id-1 label.sk-toggleable__label {cursor: pointer;display: block;width: 100%;margin-bottom: 0;padding: 0.3em;box-sizing: border-box;text-align: center;}#sk-container-id-1 label.sk-toggleable__label-arrow:before {content: \"▸\";float: left;margin-right: 0.25em;color: #696969;}#sk-container-id-1 label.sk-toggleable__label-arrow:hover:before {color: black;}#sk-container-id-1 div.sk-estimator:hover label.sk-toggleable__label-arrow:before {color: black;}#sk-container-id-1 div.sk-toggleable__content {max-height: 0;max-width: 0;overflow: hidden;text-align: left;background-color: #f0f8ff;}#sk-container-id-1 div.sk-toggleable__content pre {margin: 0.2em;color: black;border-radius: 0.25em;background-color: #f0f8ff;}#sk-container-id-1 input.sk-toggleable__control:checked~div.sk-toggleable__content {max-height: 200px;max-width: 100%;overflow: auto;}#sk-container-id-1 input.sk-toggleable__control:checked~label.sk-toggleable__label-arrow:before {content: \"▾\";}#sk-container-id-1 div.sk-estimator input.sk-toggleable__control:checked~label.sk-toggleable__label {background-color: #d4ebff;}#sk-container-id-1 div.sk-label input.sk-toggleable__control:checked~label.sk-toggleable__label {background-color: #d4ebff;}#sk-container-id-1 input.sk-hidden--visually {border: 0;clip: rect(1px 1px 1px 1px);clip: rect(1px, 1px, 1px, 1px);height: 1px;margin: -1px;overflow: hidden;padding: 0;position: absolute;width: 1px;}#sk-container-id-1 div.sk-estimator {font-family: monospace;background-color: #f0f8ff;border: 1px dotted black;border-radius: 0.25em;box-sizing: border-box;margin-bottom: 0.5em;}#sk-container-id-1 div.sk-estimator:hover {background-color: #d4ebff;}#sk-container-id-1 div.sk-parallel-item::after {content: \"\";width: 100%;border-bottom: 1px solid gray;flex-grow: 1;}#sk-container-id-1 div.sk-label:hover label.sk-toggleable__label {background-color: #d4ebff;}#sk-container-id-1 div.sk-serial::before {content: \"\";position: absolute;border-left: 1px solid gray;box-sizing: border-box;top: 0;bottom: 0;left: 50%;z-index: 0;}#sk-container-id-1 div.sk-serial {display: flex;flex-direction: column;align-items: center;background-color: white;padding-right: 0.2em;padding-left: 0.2em;position: relative;}#sk-container-id-1 div.sk-item {position: relative;z-index: 1;}#sk-container-id-1 div.sk-parallel {display: flex;align-items: stretch;justify-content: center;background-color: white;position: relative;}#sk-container-id-1 div.sk-item::before, #sk-container-id-1 div.sk-parallel-item::before {content: \"\";position: absolute;border-left: 1px solid gray;box-sizing: border-box;top: 0;bottom: 0;left: 50%;z-index: -1;}#sk-container-id-1 div.sk-parallel-item {display: flex;flex-direction: column;z-index: 1;position: relative;background-color: white;}#sk-container-id-1 div.sk-parallel-item:first-child::after {align-self: flex-end;width: 50%;}#sk-container-id-1 div.sk-parallel-item:last-child::after {align-self: flex-start;width: 50%;}#sk-container-id-1 div.sk-parallel-item:only-child::after {width: 0;}#sk-container-id-1 div.sk-dashed-wrapped {border: 1px dashed gray;margin: 0 0.4em 0.5em 0.4em;box-sizing: border-box;padding-bottom: 0.4em;background-color: white;}#sk-container-id-1 div.sk-label label {font-family: monospace;font-weight: bold;display: inline-block;line-height: 1.2em;}#sk-container-id-1 div.sk-label-container {text-align: center;}#sk-container-id-1 div.sk-container {/* jupyter's `normalize.less` sets `[hidden] { display: none; }` but bootstrap.min.css set `[hidden] { display: none !important; }` so we also need the `!important` here to be able to override the default hidden behavior on the sphinx rendered scikit-learn.org. See: https://github.com/scikit-learn/scikit-learn/issues/21755 */display: inline-block !important;position: relative;}#sk-container-id-1 div.sk-text-repr-fallback {display: none;}</style><div id=\"sk-container-id-1\" class=\"sk-top-container\"><div class=\"sk-text-repr-fallback\"><pre>RandomForestClassifier(random_state=42)</pre><b>In a Jupyter environment, please rerun this cell to show the HTML representation or trust the notebook. <br />On GitHub, the HTML representation is unable to render, please try loading this page with nbviewer.org.</b></div><div class=\"sk-container\" hidden><div class=\"sk-item\"><div class=\"sk-estimator sk-toggleable\"><input class=\"sk-toggleable__control sk-hidden--visually\" id=\"sk-estimator-id-1\" type=\"checkbox\" checked><label for=\"sk-estimator-id-1\" class=\"sk-toggleable__label sk-toggleable__label-arrow\">RandomForestClassifier</label><div class=\"sk-toggleable__content\"><pre>RandomForestClassifier(random_state=42)</pre></div></div></div></div></div>"
            ]
          },
          "metadata": {},
          "execution_count": 23
        }
      ]
    },
    {
      "cell_type": "markdown",
      "source": [
        "### Evaluate the Random Forest Model"
      ],
      "metadata": {
        "id": "znTgB3kqzBFg"
      }
    },
    {
      "cell_type": "code",
      "source": [
        "# Predict on the test set\n",
        "y_pred_rf = rf_model.predict(X_test)\n",
        "\n",
        "# Evaluate the model\n",
        "accuracy_rf = accuracy_score(y_test, y_pred_rf)\n",
        "report_rf = classification_report(y_test, y_pred_rf)\n",
        "\n",
        "print(f\"Random Forest Model Accuracy: {accuracy_rf}\")\n",
        "print(\"Random Forest Model Classification Report:\\n\", report_rf)\n",
        "\n",
        "# Confusion Matrix\n",
        "cm_rf = confusion_matrix(y_test, y_pred_rf)\n",
        "sns.heatmap(cm_rf, annot=True, fmt=\"d\", cmap=\"Blues\", annot_kws={\"size\": 16})\n",
        "plt.title(\"Random Forest Model Confusion Matrix\")\n",
        "plt.xlabel(\"Predicted Label\")\n",
        "plt.ylabel(\"True Label\")\n",
        "plt.show()\n"
      ],
      "metadata": {
        "colab": {
          "base_uri": "https://localhost:8080/",
          "height": 659
        },
        "id": "EOadFmjpzDUu",
        "outputId": "c2710b69-645e-4c18-8393-164d6dc848ed"
      },
      "execution_count": 24,
      "outputs": [
        {
          "output_type": "stream",
          "name": "stdout",
          "text": [
            "Random Forest Model Accuracy: 0.5752906890000696\n",
            "Random Forest Model Classification Report:\n",
            "               precision    recall  f1-score   support\n",
            "\n",
            "           0       0.59      0.52      0.55     50359\n",
            "           1       0.57      0.63      0.60     50178\n",
            "\n",
            "    accuracy                           0.58    100537\n",
            "   macro avg       0.58      0.58      0.57    100537\n",
            "weighted avg       0.58      0.58      0.57    100537\n",
            "\n"
          ]
        },
        {
          "output_type": "display_data",
          "data": {
            "text/plain": [
              "<Figure size 640x480 with 2 Axes>"
            ],
            "image/png": "[encoded data removed]"
          },
          "metadata": {}
        }
      ]
    }
  ]
}
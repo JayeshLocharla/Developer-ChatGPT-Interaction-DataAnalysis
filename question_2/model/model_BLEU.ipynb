{
  "nbformat": 4,
  "nbformat_minor": 0,
  "metadata": {
    "colab": {
      "provenance": []
    },
    "kernelspec": {
      "name": "python3",
      "display_name": "Python 3"
    },
    "language_info": {
      "name": "python"
    }
  },
  "cells": [
    {
      "cell_type": "code",
      "execution_count": 1,
      "metadata": {
        "colab": {
          "base_uri": "https://localhost:8080/"
        },
        "id": "66Dtb3Os7a4X",
        "outputId": "073c5cb2-3434-432f-bf12-7e6bb49d9e9c"
      },
      "outputs": [
        {
          "output_type": "stream",
          "name": "stdout",
          "text": [
            "Mounted at /content/drive/\n"
          ]
        }
      ],
      "source": [
        "from google.colab import drive\n",
        "drive.mount('/content/drive/')"
      ]
    },
    {
      "cell_type": "code",
      "source": [
        "!pip install nltk"
      ],
      "metadata": {
        "colab": {
          "base_uri": "https://localhost:8080/"
        },
        "id": "avkr08PS7iZt",
        "outputId": "93f54286-61b2-433f-8eda-b4388da0774b"
      },
      "execution_count": 2,
      "outputs": [
        {
          "output_type": "stream",
          "name": "stdout",
          "text": [
            "Requirement already satisfied: nltk in /usr/local/lib/python3.10/dist-packages (3.8.1)\n",
            "Requirement already satisfied: click in /usr/local/lib/python3.10/dist-packages (from nltk) (8.1.7)\n",
            "Requirement already satisfied: joblib in /usr/local/lib/python3.10/dist-packages (from nltk) (1.3.2)\n",
            "Requirement already satisfied: regex>=2021.8.3 in /usr/local/lib/python3.10/dist-packages (from nltk) (2023.6.3)\n",
            "Requirement already satisfied: tqdm in /usr/local/lib/python3.10/dist-packages (from nltk) (4.66.1)\n"
          ]
        }
      ]
    },
    {
      "cell_type": "markdown",
      "source": [
        "### Step 1: Read JSON Files"
      ],
      "metadata": {
        "id": "qE7tlBMl7ucI"
      }
    },
    {
      "cell_type": "code",
      "source": [
        "import json\n",
        "\n",
        "def read_json_file(file_path):\n",
        "    with open(file_path, 'r', encoding='utf-8') as file:\n",
        "        data = json.load(file)\n",
        "    return data\n",
        "\n",
        "# Replace 'file1.json' and 'file2.json' with your actual file paths\n",
        "dataset1 = read_json_file('/content/drive/MyDrive/Model/github_data.json')\n",
        "dataset2 = read_json_file('/content/drive/MyDrive/Model/openai_api_data.json')\n"
      ],
      "metadata": {
        "id": "ggZGCWCV7p4s"
      },
      "execution_count": 3,
      "outputs": []
    },
    {
      "cell_type": "markdown",
      "source": [
        "### Step 2: Tokenization"
      ],
      "metadata": {
        "id": "-cHz9-It8ESL"
      }
    },
    {
      "cell_type": "code",
      "source": [
        "import nltk\n",
        "nltk.download('punkt')\n",
        "\n",
        "def tokenize_text(text):\n",
        "    return nltk.word_tokenize(text)\n",
        "\n",
        "# Tokenize each answer in the datasets\n",
        "tokenized_answers1 = [tokenize_text(entry['Answer']) for entry in dataset1]\n",
        "tokenized_answers2 = [tokenize_text(entry['Answer']) for entry in dataset2]\n"
      ],
      "metadata": {
        "colab": {
          "base_uri": "https://localhost:8080/"
        },
        "id": "e2EcVVOJ8GCO",
        "outputId": "0ee4378b-12a0-4861-c3ab-683ea405c5c3"
      },
      "execution_count": 7,
      "outputs": [
        {
          "output_type": "stream",
          "name": "stderr",
          "text": [
            "[nltk_data] Downloading package punkt to /root/nltk_data...\n",
            "[nltk_data]   Unzipping tokenizers/punkt.zip.\n"
          ]
        }
      ]
    },
    {
      "cell_type": "markdown",
      "source": [
        "### Step 3: N-gram Precision"
      ],
      "metadata": {
        "id": "nO7vJffj8xO4"
      }
    },
    {
      "cell_type": "code",
      "source": [
        "from nltk.translate.bleu_score import sentence_bleu, SmoothingFunction\n",
        "\n",
        "def calculate_ngram_precision(reference, candidate):\n",
        "    smoothie = SmoothingFunction().method4\n",
        "    return sentence_bleu([reference], candidate, smoothing_function=smoothie)\n",
        "\n",
        "# Calculate n-gram precision for each pair of answers\n",
        "ngram_precisions = [calculate_ngram_precision(ref, cand) for ref, cand in zip(tokenized_answers1, tokenized_answers2)]\n"
      ],
      "metadata": {
        "id": "LNU_lbys8wuk"
      },
      "execution_count": 8,
      "outputs": []
    },
    {
      "cell_type": "markdown",
      "source": [
        "### Step 4: Brevity Penalty"
      ],
      "metadata": {
        "id": "nxseCuZd82Af"
      }
    },
    {
      "cell_type": "code",
      "source": [
        "def calculate_brevity_penalty(reference_lengths, candidate_length):\n",
        "    brevity_penalty = min(1, len(reference_lengths) / candidate_length)\n",
        "    return brevity_penalty\n",
        "\n",
        "# Calculate brevity penalty\n",
        "brevity_penalty = calculate_brevity_penalty([len(ref) for ref in tokenized_answers1], len(tokenized_answers2))\n"
      ],
      "metadata": {
        "id": "CYG3Yrax8408"
      },
      "execution_count": 9,
      "outputs": []
    },
    {
      "cell_type": "markdown",
      "source": [
        "### Step 5: BLEU Score Calculation"
      ],
      "metadata": {
        "id": "3d0kGOM687-S"
      }
    },
    {
      "cell_type": "code",
      "source": [
        "def calculate_bleu_score(ngram_precisions, brevity_penalty):\n",
        "    weights = [1.0 / len(ngram_precisions)] * len(ngram_precisions)\n",
        "    weighted_geometric_mean = 0\n",
        "\n",
        "    for precision, weight in zip(ngram_precisions, weights):\n",
        "        weighted_geometric_mean += weight * (precision or 1e-10) ** (1 / len(ngram_precisions))\n",
        "\n",
        "    bleu_score = brevity_penalty * weighted_geometric_mean\n",
        "    return bleu_score\n",
        "\n",
        "# Calculate BLEU score\n",
        "bleu_score = calculate_bleu_score(ngram_precisions, brevity_penalty)\n",
        "print(f\"BLEU Score: {bleu_score}\")\n"
      ],
      "metadata": {
        "colab": {
          "base_uri": "https://localhost:8080/"
        },
        "id": "T99wJrOb85R3",
        "outputId": "aa384d42-2198-47d1-97ac-58596b773c41"
      },
      "execution_count": 10,
      "outputs": [
        {
          "output_type": "stream",
          "name": "stdout",
          "text": [
            "BLEU Score: 0.999950592180113\n"
          ]
        }
      ]
    },
    {
      "cell_type": "code",
      "source": [
        "import matplotlib.pyplot as plt"
      ],
      "metadata": {
        "id": "mouCM2Z-9pab"
      },
      "execution_count": 12,
      "outputs": []
    },
    {
      "cell_type": "code",
      "source": [
        "# Plotting the BLEU scores\n",
        "plt.plot(range(1, len(ngram_precisions) + 1), ngram_precisions, marker='o', linestyle='-', color='b')\n",
        "plt.xlabel('Prompt Index')\n",
        "plt.ylabel('BLEU Score')\n",
        "plt.title('BLEU Scores for Each Prompt')\n",
        "plt.grid(True)\n",
        "plt.show()"
      ],
      "metadata": {
        "colab": {
          "base_uri": "https://localhost:8080/",
          "height": 472
        },
        "id": "YATajktR9jN1",
        "outputId": "8319e00a-e503-463c-c816-0c96d81b40e2"
      },
      "execution_count": 13,
      "outputs": [
        {
          "output_type": "display_data",
          "data": {
            "text/plain": [
              "<Figure size 640x480 with 1 Axes>"
            ],
            "image/png": "[encoded data removed]"
          },
          "metadata": {}
        }
      ]
    }
  ]
}
{
  "nbformat": 4,
  "nbformat_minor": 0,
  "metadata": {
    "colab": {
      "provenance": []
    },
    "kernelspec": {
      "name": "python3",
      "display_name": "Python 3"
    },
    "language_info": {
      "name": "python"
    }
  },
  "cells": [
    {
      "cell_type": "code",
      "execution_count": 1,
      "metadata": {
        "colab": {
          "base_uri": "https://localhost:8080/"
        },
        "id": "WoNcKGEX_o9d",
        "outputId": "e138c7b0-d59d-43dd-ee90-e9a06b97ea30"
      },
      "outputs": [
        {
          "output_type": "stream",
          "name": "stdout",
          "text": [
            "Drive already mounted at /content/drive/; to attempt to forcibly remount, call drive.mount(\"/content/drive/\", force_remount=True).\n"
          ]
        }
      ],
      "source": [
        "from google.colab import drive\n",
        "drive.mount('/content/drive/')"
      ]
    },
    {
      "cell_type": "code",
      "source": [
        "!git clone -l -s https://github.com/NAIST-SE/DevGPT"
      ],
      "metadata": {
        "colab": {
          "base_uri": "https://localhost:8080/"
        },
        "id": "Jn9RiQed_1co",
        "outputId": "be075c50-5111-419c-c1fd-1f0915935602"
      },
      "execution_count": 2,
      "outputs": [
        {
          "output_type": "stream",
          "name": "stdout",
          "text": [
            "Cloning into 'DevGPT'...\n",
            "warning: --local is ignored\n",
            "remote: Enumerating objects: 241, done.\u001b[K\n",
            "remote: Counting objects: 100% (100/100), done.\u001b[K\n",
            "remote: Compressing objects: 100% (82/82), done.\u001b[K\n",
            "remote: Total 241 (delta 19), reused 87 (delta 17), pack-reused 141\u001b[K\n",
            "Receiving objects: 100% (241/241), 985.42 MiB | 22.10 MiB/s, done.\n",
            "Resolving deltas: 100% (103/103), done.\n",
            "Filtering content: 100% (54/54), 3.89 GiB | 56.73 MiB/s, done.\n"
          ]
        }
      ]
    },
    {
      "cell_type": "code",
      "source": [
        "import json\n",
        "\n",
        "# Opening JSON file\n",
        "with open('/content/DevGPT/snapshot_20230727/20230727_200102_file_sharings.json', 'r') as json_file:\n",
        "    data = json.load(json_file)\n",
        "\n",
        "# List to store prompts and answers\n",
        "all_conversations = []\n",
        "\n",
        "# Iterate through the structure and extract prompts and answers\n",
        "for source in data.get('Sources', []):\n",
        "    for chat in source.get('ChatgptSharing', []):\n",
        "        if \"NumberOfPrompts\" in chat and chat[\"NumberOfPrompts\"] == 1:\n",
        "            prompt = chat[\"Conversations\"][0].get(\"Prompt\", \"\")\n",
        "            answer = chat[\"Conversations\"][0].get(\"Answer\", \"\")\n",
        "            all_conversations.append({\"Prompt\": prompt, \"Answer\": answer})\n",
        "\n",
        "# Write all prompts and answers to a new JSON file\n",
        "file_path = \"/content/drive/MyDrive/SE_Project/samp4.json\"\n",
        "with open(file_path, 'a') as json_file:\n",
        "    json.dump(all_conversations, json_file, indent=4)\n",
        "\n",
        "print(\"All prompts and answers saved to samp4.json\")\n",
        "# Prompts gathered from \"/content/DevGPT/snapshot_20230727\""
      ],
      "metadata": {
        "colab": {
          "base_uri": "https://localhost:8080/"
        },
        "id": "KPz981T9_8pO",
        "outputId": "cc2d8cc0-64bc-4f01-a3cc-64400d10af38"
      },
      "execution_count": 8,
      "outputs": [
        {
          "output_type": "stream",
          "name": "stdout",
          "text": [
            "All prompts and answers saved to samp4.json\n"
          ]
        }
      ]
    }
  ]
}
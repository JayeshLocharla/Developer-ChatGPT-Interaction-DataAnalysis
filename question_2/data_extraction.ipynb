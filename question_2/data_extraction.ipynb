{
  "cells": [
    {
      "cell_type": "code",
      "execution_count": 1,
      "metadata": {
        "colab": {
          "base_uri": "https://localhost:8080/"
        },
        "id": "vM46WGQKo__F",
        "outputId": "a0dc3ea7-3a6d-4952-9b73-c8295b651c36"
      },
      "outputs": [
        {
          "output_type": "stream",
          "name": "stdout",
          "text": [
            "Drive already mounted at /content/drive/; to attempt to forcibly remount, call drive.mount(\"/content/drive/\", force_remount=True).\n"
          ]
        }
      ],
      "source": [
        "from google.colab import drive\n",
        "drive.mount('/content/drive/')"
      ]
    },
    {
      "cell_type": "code",
      "execution_count": 2,
      "metadata": {
        "colab": {
          "base_uri": "https://localhost:8080/"
        },
        "id": "YhIsPWyApFhJ",
        "outputId": "16fd302e-455e-4b39-ff30-e4ae69fd187d"
      },
      "outputs": [
        {
          "output_type": "stream",
          "name": "stdout",
          "text": [
            "fatal: destination path 'DevGPT' already exists and is not an empty directory.\n"
          ]
        }
      ],
      "source": [
        "!git clone -l -s https://github.com/NAIST-SE/DevGPT\n",
        "# %cd cloned-repo\n",
        "# !ls"
      ]
    },
    {
      "cell_type": "code",
      "execution_count": 3,
      "metadata": {
        "colab": {
          "base_uri": "https://localhost:8080/"
        },
        "id": "Iq-1FN9Bqdtg",
        "outputId": "91777508-24a0-4cba-bde7-699d5dc3479b"
      },
      "outputs": [
        {
          "output_type": "stream",
          "name": "stdout",
          "text": [
            "/content/drive/MyDrive/SE_Project\n"
          ]
        }
      ],
      "source": [
        "cd /content/drive/MyDrive/SE_Project"
      ]
    },
    {
      "cell_type": "code",
      "source": [
        "\n",
        "# Opening JSON file\n",
        "\n",
        "import json\n",
        "main_list=[]\n",
        "\n",
        "# Opening JSON file\n",
        "# with open('/content/drive/MyDrive/SE_Project/DevGPT/main/1.json','r') as json_file:\n",
        "with open('/content/DevGPT/snapshot_20230727/20230727_195816_hn_sharings.json','r') as json_file:\n",
        "    data = json.load(json_file)\n",
        "\n",
        "for i in range(len(data)):\n",
        "\n",
        "  x = data[\"Sources\"]\n",
        "  for j in x:\n",
        "\n",
        "    chat= j[\"ChatgptSharing\"]\n",
        "    data={}\n",
        "    # print(chat)\n",
        "\n",
        "    for i in chat:\n",
        "      if \"Conversations\" in chat[0]:\n",
        "        for key in chat[0][\"Conversations\"]:\n",
        "          print(key)\n",
        "          for val in key[\"ListOfCode\"]:\n",
        "            if val['Type'] and val['Type'].lower() in ['python','javascript','c','c++','java','c#','ruby']:\n",
        "              if val[\"Content\"]:\n",
        "\n",
        "                data[\"type\"]=val[\"Type\"]\n",
        "                data[\"code\"]=val[\"Content\"]\n",
        "                file_path = \"/content/drive/MyDrive/SE_Project/final.json\"\n",
        "                existing_data=[]\n",
        "                with open(file_path, 'r') as json_file:\n",
        "                  existing_data = json.load(json_file)\n",
        "                  data_present = any(item == data for item in existing_data)\n",
        "                  if not data_present:\n",
        "                    main_list.append(data)\n",
        "                  else:\n",
        "                    print(\"sameeee\")\n",
        "\n",
        "\n",
        "file_path=\"/content/drive/MyDrive/SE_Project/new.json\"\n",
        "\n",
        "with open(file_path, 'a') as json_file:\n",
        "  json.dump(main_list, json_file, indent=4)\n",
        "\n",
        "            # print(title)\n",
        "            # if title:\n",
        "            #   file.write(title + \"\\n\")  # Write each title to the file on a new line\n",
        "\n"
      ],
      "metadata": {
        "id": "zP0u6iVBYFkU",
        "colab": {
          "base_uri": "https://localhost:8080/",
          "height": 385
        },
        "outputId": "910522c9-5ac6-4688-ae24-8d0e3c834dfe"
      },
      "execution_count": null,
      "outputs": [
        {
          "output_type": "error",
          "ename": "JSONDecodeError",
          "evalue": "ignored",
          "traceback": [
            "\u001b[0;31m---------------------------------------------------------------------------\u001b[0m",
            "\u001b[0;31mJSONDecodeError\u001b[0m                           Traceback (most recent call last)",
            "\u001b[0;32m<ipython-input-42-6970e0606efd>\u001b[0m in \u001b[0;36m<cell line: 8>\u001b[0;34m()\u001b[0m\n\u001b[1;32m      7\u001b[0m \u001b[0;31m# with open('/content/drive/MyDrive/SE_Project/DevGPT/main/1.json','r') as json_file:\u001b[0m\u001b[0;34m\u001b[0m\u001b[0;34m\u001b[0m\u001b[0m\n\u001b[1;32m      8\u001b[0m \u001b[0;32mwith\u001b[0m \u001b[0mopen\u001b[0m\u001b[0;34m(\u001b[0m\u001b[0;34m'/content/DevGPT/snapshot_20230727/20230727_195816_hn_sharings.json'\u001b[0m\u001b[0;34m,\u001b[0m\u001b[0;34m'r'\u001b[0m\u001b[0;34m)\u001b[0m \u001b[0;32mas\u001b[0m \u001b[0mjson_file\u001b[0m\u001b[0;34m:\u001b[0m\u001b[0;34m\u001b[0m\u001b[0;34m\u001b[0m\u001b[0m\n\u001b[0;32m----> 9\u001b[0;31m     \u001b[0mdata\u001b[0m \u001b[0;34m=\u001b[0m \u001b[0mjson\u001b[0m\u001b[0;34m.\u001b[0m\u001b[0mload\u001b[0m\u001b[0;34m(\u001b[0m\u001b[0mjson_file\u001b[0m\u001b[0;34m)\u001b[0m\u001b[0;34m\u001b[0m\u001b[0;34m\u001b[0m\u001b[0m\n\u001b[0m\u001b[1;32m     10\u001b[0m \u001b[0;34m\u001b[0m\u001b[0m\n\u001b[1;32m     11\u001b[0m \u001b[0;31m# Extract the \"prompt\" where NumberOfPrompts is equal to 1\u001b[0m\u001b[0;34m\u001b[0m\u001b[0;34m\u001b[0m\u001b[0m\n",
            "\u001b[0;32m/usr/lib/python3.10/json/__init__.py\u001b[0m in \u001b[0;36mload\u001b[0;34m(fp, cls, object_hook, parse_float, parse_int, parse_constant, object_pairs_hook, **kw)\u001b[0m\n\u001b[1;32m    291\u001b[0m     \u001b[0mkwarg\u001b[0m\u001b[0;34m;\u001b[0m \u001b[0motherwise\u001b[0m\u001b[0;31m \u001b[0m\u001b[0;31m`\u001b[0m\u001b[0;31m`\u001b[0m\u001b[0mJSONDecoder\u001b[0m\u001b[0;31m`\u001b[0m\u001b[0;31m`\u001b[0m \u001b[0;32mis\u001b[0m \u001b[0mused\u001b[0m\u001b[0;34m.\u001b[0m\u001b[0;34m\u001b[0m\u001b[0;34m\u001b[0m\u001b[0m\n\u001b[1;32m    292\u001b[0m     \"\"\"\n\u001b[0;32m--> 293\u001b[0;31m     return loads(fp.read(),\n\u001b[0m\u001b[1;32m    294\u001b[0m         \u001b[0mcls\u001b[0m\u001b[0;34m=\u001b[0m\u001b[0mcls\u001b[0m\u001b[0;34m,\u001b[0m \u001b[0mobject_hook\u001b[0m\u001b[0;34m=\u001b[0m\u001b[0mobject_hook\u001b[0m\u001b[0;34m,\u001b[0m\u001b[0;34m\u001b[0m\u001b[0;34m\u001b[0m\u001b[0m\n\u001b[1;32m    295\u001b[0m         \u001b[0mparse_float\u001b[0m\u001b[0;34m=\u001b[0m\u001b[0mparse_float\u001b[0m\u001b[0;34m,\u001b[0m \u001b[0mparse_int\u001b[0m\u001b[0;34m=\u001b[0m\u001b[0mparse_int\u001b[0m\u001b[0;34m,\u001b[0m\u001b[0;34m\u001b[0m\u001b[0;34m\u001b[0m\u001b[0m\n",
            "\u001b[0;32m/usr/lib/python3.10/json/__init__.py\u001b[0m in \u001b[0;36mloads\u001b[0;34m(s, cls, object_hook, parse_float, parse_int, parse_constant, object_pairs_hook, **kw)\u001b[0m\n\u001b[1;32m    344\u001b[0m             \u001b[0mparse_int\u001b[0m \u001b[0;32mis\u001b[0m \u001b[0;32mNone\u001b[0m \u001b[0;32mand\u001b[0m \u001b[0mparse_float\u001b[0m \u001b[0;32mis\u001b[0m \u001b[0;32mNone\u001b[0m \u001b[0;32mand\u001b[0m\u001b[0;34m\u001b[0m\u001b[0;34m\u001b[0m\u001b[0m\n\u001b[1;32m    345\u001b[0m             parse_constant is None and object_pairs_hook is None and not kw):\n\u001b[0;32m--> 346\u001b[0;31m         \u001b[0;32mreturn\u001b[0m \u001b[0m_default_decoder\u001b[0m\u001b[0;34m.\u001b[0m\u001b[0mdecode\u001b[0m\u001b[0;34m(\u001b[0m\u001b[0ms\u001b[0m\u001b[0;34m)\u001b[0m\u001b[0;34m\u001b[0m\u001b[0;34m\u001b[0m\u001b[0m\n\u001b[0m\u001b[1;32m    347\u001b[0m     \u001b[0;32mif\u001b[0m \u001b[0mcls\u001b[0m \u001b[0;32mis\u001b[0m \u001b[0;32mNone\u001b[0m\u001b[0;34m:\u001b[0m\u001b[0;34m\u001b[0m\u001b[0;34m\u001b[0m\u001b[0m\n\u001b[1;32m    348\u001b[0m         \u001b[0mcls\u001b[0m \u001b[0;34m=\u001b[0m \u001b[0mJSONDecoder\u001b[0m\u001b[0;34m\u001b[0m\u001b[0;34m\u001b[0m\u001b[0m\n",
            "\u001b[0;32m/usr/lib/python3.10/json/decoder.py\u001b[0m in \u001b[0;36mdecode\u001b[0;34m(self, s, _w)\u001b[0m\n\u001b[1;32m    338\u001b[0m         \u001b[0mend\u001b[0m \u001b[0;34m=\u001b[0m \u001b[0m_w\u001b[0m\u001b[0;34m(\u001b[0m\u001b[0ms\u001b[0m\u001b[0;34m,\u001b[0m \u001b[0mend\u001b[0m\u001b[0;34m)\u001b[0m\u001b[0;34m.\u001b[0m\u001b[0mend\u001b[0m\u001b[0;34m(\u001b[0m\u001b[0;34m)\u001b[0m\u001b[0;34m\u001b[0m\u001b[0;34m\u001b[0m\u001b[0m\n\u001b[1;32m    339\u001b[0m         \u001b[0;32mif\u001b[0m \u001b[0mend\u001b[0m \u001b[0;34m!=\u001b[0m \u001b[0mlen\u001b[0m\u001b[0;34m(\u001b[0m\u001b[0ms\u001b[0m\u001b[0;34m)\u001b[0m\u001b[0;34m:\u001b[0m\u001b[0;34m\u001b[0m\u001b[0;34m\u001b[0m\u001b[0m\n\u001b[0;32m--> 340\u001b[0;31m             \u001b[0;32mraise\u001b[0m \u001b[0mJSONDecodeError\u001b[0m\u001b[0;34m(\u001b[0m\u001b[0;34m\"Extra data\"\u001b[0m\u001b[0;34m,\u001b[0m \u001b[0ms\u001b[0m\u001b[0;34m,\u001b[0m \u001b[0mend\u001b[0m\u001b[0;34m)\u001b[0m\u001b[0;34m\u001b[0m\u001b[0;34m\u001b[0m\u001b[0m\n\u001b[0m\u001b[1;32m    341\u001b[0m         \u001b[0;32mreturn\u001b[0m \u001b[0mobj\u001b[0m\u001b[0;34m\u001b[0m\u001b[0;34m\u001b[0m\u001b[0m\n\u001b[1;32m    342\u001b[0m \u001b[0;34m\u001b[0m\u001b[0m\n",
            "\u001b[0;31mJSONDecodeError\u001b[0m: Extra data: line 21957 column 2 (char 34171366)"
          ]
        }
      ]
    },
    {
      "cell_type": "code",
      "source": [
        "import json\n",
        "main_list=[]\n",
        "\n",
        "# Read the JSON data from the file\n",
        "with open('/content/drive/MyDrive/SE_Project/DevGPT/main/1.json','r') as json_file:\n",
        "# with open('/content/DevGPT/snapshot_20230727/20230727_195816_hn_sharings.json', 'r') as json_file:\n",
        "    data = json.load(json_file)\n",
        "\n",
        "# tot_set=json_data[\"Sources\"]\n",
        "\n",
        "# for i in tot_set:\n",
        "#   sharing=i[\"ChatgptSharing\"]\n",
        "#   print(sharing)\n",
        "#   for value in sharing:\n",
        "#     if value[\"NumberOfPrompts\"]==1:\n",
        "#       print(\"successfully found single prompts\")\n",
        "#       print(value[\"Conversations\"])\n",
        "\n",
        "# for i in range(len(data)):\n",
        "\n",
        "\n",
        "#   x = data[\"Sources\"]\n",
        "#   for j in x:\n",
        "\n",
        "#     chat= j[\"ChatgptSharing\"]\n",
        "#     data={}\n",
        "#     print(chat)\n",
        "#     for ch in chat:\n",
        "\n",
        "\n",
        "#       if \"NumberOfPrompts\" in ch and ch[\"NumberOfPrompts\"]==1:\n",
        "#         print(\"successfully printing no of prompts less than 10\")\n",
        "#         print(ch[\"Conversations\"][0][\"Prompt\"])\n",
        "\n",
        "\n",
        "# Extract and store prompts and answers where NumberOfPrompts is equal to 1\n",
        "conversations = []\n",
        "for source in data['Sources']:\n",
        "    for sharing in source['ChatgptSharing']:\n",
        "        if sharing['NumberOfPrompts'] == 1:\n",
        "            for conversation in sharing['Conversations']:\n",
        "                prompt = conversation['Prompt']\n",
        "                answer = conversation['Answer']\n",
        "                conversations.append({\"Prompt\": prompt, \"Answer\": answer})\n",
        "\n",
        "# Write the prompts and answers to a new JSON file\n",
        "file_path=\"/content/drive/MyDrive/SE_Project/prompts_and_answers.json\"\n",
        "with open(file_path, 'w') as output_file:\n",
        "    json.dump(conversations, output_file, indent=2)\n",
        "\n",
        "# print(\"Prompts and answers saved to prompts_and_answers.json\")\n"
      ],
      "metadata": {
        "colab": {
          "base_uri": "https://localhost:8080/",
          "height": 276
        },
        "id": "PfAUot1FY4Zn",
        "outputId": "49336715-450b-4b0f-f7b1-461c121764eb"
      },
      "execution_count": 4,
      "outputs": [
        {
          "output_type": "error",
          "ename": "KeyError",
          "evalue": "ignored",
          "traceback": [
            "\u001b[0;31m---------------------------------------------------------------------------\u001b[0m",
            "\u001b[0;31mKeyError\u001b[0m                                  Traceback (most recent call last)",
            "\u001b[0;32m<ipython-input-4-fd3edbd78258>\u001b[0m in \u001b[0;36m<cell line: 38>\u001b[0;34m()\u001b[0m\n\u001b[1;32m     38\u001b[0m \u001b[0;32mfor\u001b[0m \u001b[0msource\u001b[0m \u001b[0;32min\u001b[0m \u001b[0mdata\u001b[0m\u001b[0;34m[\u001b[0m\u001b[0;34m'Sources'\u001b[0m\u001b[0;34m]\u001b[0m\u001b[0;34m:\u001b[0m\u001b[0;34m\u001b[0m\u001b[0;34m\u001b[0m\u001b[0m\n\u001b[1;32m     39\u001b[0m     \u001b[0;32mfor\u001b[0m \u001b[0msharing\u001b[0m \u001b[0;32min\u001b[0m \u001b[0msource\u001b[0m\u001b[0;34m[\u001b[0m\u001b[0;34m'ChatgptSharing'\u001b[0m\u001b[0;34m]\u001b[0m\u001b[0;34m:\u001b[0m\u001b[0;34m\u001b[0m\u001b[0;34m\u001b[0m\u001b[0m\n\u001b[0;32m---> 40\u001b[0;31m         \u001b[0;32mif\u001b[0m \u001b[0msharing\u001b[0m\u001b[0;34m[\u001b[0m\u001b[0;34m'NumberOfPrompts'\u001b[0m\u001b[0;34m]\u001b[0m \u001b[0;34m==\u001b[0m \u001b[0;36m1\u001b[0m\u001b[0;34m:\u001b[0m\u001b[0;34m\u001b[0m\u001b[0;34m\u001b[0m\u001b[0m\n\u001b[0m\u001b[1;32m     41\u001b[0m             \u001b[0;32mfor\u001b[0m \u001b[0mconversation\u001b[0m \u001b[0;32min\u001b[0m \u001b[0msharing\u001b[0m\u001b[0;34m[\u001b[0m\u001b[0;34m'Conversations'\u001b[0m\u001b[0;34m]\u001b[0m\u001b[0;34m:\u001b[0m\u001b[0;34m\u001b[0m\u001b[0;34m\u001b[0m\u001b[0m\n\u001b[1;32m     42\u001b[0m                 \u001b[0mprompt\u001b[0m \u001b[0;34m=\u001b[0m \u001b[0mconversation\u001b[0m\u001b[0;34m[\u001b[0m\u001b[0;34m'Prompt'\u001b[0m\u001b[0;34m]\u001b[0m\u001b[0;34m\u001b[0m\u001b[0;34m\u001b[0m\u001b[0m\n",
            "\u001b[0;31mKeyError\u001b[0m: 'NumberOfPrompts'"
          ]
        }
      ]
    },
    {
      "cell_type": "markdown",
      "source": [],
      "metadata": {
        "id": "T9bmkvums5IF"
      }
    },
    {
      "cell_type": "code",
      "source": [
        "import json\n",
        "main_list=[]\n",
        "\n",
        "# Read the JSON data from a file\n",
        "with open('/content/drive/MyDrive/SE_Project/DevGPT/main/1.json','r') as json_file:\n",
        "# with open('/content/DevGPT/snapshot_20230727/20230727_195816_hn_sharings.json','r') as json_file:\n",
        "    json_data = json.load(json_file)\n",
        "\n",
        "# Extract the \"prompt\" where NumberOfPrompts is equal to 1\n",
        "for source in json_data['Sources']:\n",
        "    for sharing in source['ChatgptSharing']:\n",
        "        if sharing['NumberOfPrompts'] == 1:\n",
        "            for conversation in sharing['Conversations']:\n",
        "                prompt = conversation['Prompt']\n",
        "                print(prompt)\n"
      ],
      "metadata": {
        "colab": {
          "base_uri": "https://localhost:8080/",
          "height": 432
        },
        "id": "N5H5GiOUYDUb",
        "outputId": "863f5353-c9de-480b-cfa1-4e8977f52def"
      },
      "execution_count": 79,
      "outputs": [
        {
          "output_type": "stream",
          "name": "stdout",
          "text": [
            "Write a training plan for a series of lessons to teach someone modern deep learning. The training plan should last for approximately 3 months of lessons.\n",
            "\n",
            "The lesson plan is for a single student with a strong background in programming (systems programming, algorithms and web). But the student has little knowledge of python. And university level mathematics knowledge but relatively weak skills in linear algebra and probability and statistics.\n",
            "\n",
            "By the end of the training process, the student should know modern deep learning methods and techniques and be able to modify, implement and deploy AI based systems.\n",
            "\n",
            "Think through your answer. Start by listing out learning objectives, then write a teaching plan to meet those learning objectives.\n",
            "what a single-issue 5 stage pipeline on a CPU actually means. I wanted to know if, especially, the \"single-issue\" meant that only one instruction is present in the pipeline at a time, or if a new one gets shifted in on every clock cycle (if there is no hazard).\n"
          ]
        },
        {
          "output_type": "error",
          "ename": "KeyError",
          "evalue": "ignored",
          "traceback": [
            "\u001b[0;31m---------------------------------------------------------------------------\u001b[0m",
            "\u001b[0;31mKeyError\u001b[0m                                  Traceback (most recent call last)",
            "\u001b[0;32m<ipython-input-79-e2715ef99b46>\u001b[0m in \u001b[0;36m<cell line: 10>\u001b[0;34m()\u001b[0m\n\u001b[1;32m     10\u001b[0m \u001b[0;32mfor\u001b[0m \u001b[0msource\u001b[0m \u001b[0;32min\u001b[0m \u001b[0mjson_data\u001b[0m\u001b[0;34m[\u001b[0m\u001b[0;34m'Sources'\u001b[0m\u001b[0;34m]\u001b[0m\u001b[0;34m:\u001b[0m\u001b[0;34m\u001b[0m\u001b[0;34m\u001b[0m\u001b[0m\n\u001b[1;32m     11\u001b[0m     \u001b[0;32mfor\u001b[0m \u001b[0msharing\u001b[0m \u001b[0;32min\u001b[0m \u001b[0msource\u001b[0m\u001b[0;34m[\u001b[0m\u001b[0;34m'ChatgptSharing'\u001b[0m\u001b[0;34m]\u001b[0m\u001b[0;34m:\u001b[0m\u001b[0;34m\u001b[0m\u001b[0;34m\u001b[0m\u001b[0m\n\u001b[0;32m---> 12\u001b[0;31m         \u001b[0;32mif\u001b[0m \u001b[0msharing\u001b[0m\u001b[0;34m[\u001b[0m\u001b[0;34m'NumberOfPrompts'\u001b[0m\u001b[0;34m]\u001b[0m \u001b[0;34m==\u001b[0m \u001b[0;36m1\u001b[0m\u001b[0;34m:\u001b[0m\u001b[0;34m\u001b[0m\u001b[0;34m\u001b[0m\u001b[0m\n\u001b[0m\u001b[1;32m     13\u001b[0m             \u001b[0;32mfor\u001b[0m \u001b[0mconversation\u001b[0m \u001b[0;32min\u001b[0m \u001b[0msharing\u001b[0m\u001b[0;34m[\u001b[0m\u001b[0;34m'Conversations'\u001b[0m\u001b[0;34m]\u001b[0m\u001b[0;34m:\u001b[0m\u001b[0;34m\u001b[0m\u001b[0;34m\u001b[0m\u001b[0m\n\u001b[1;32m     14\u001b[0m                 \u001b[0mprompt\u001b[0m \u001b[0;34m=\u001b[0m \u001b[0mconversation\u001b[0m\u001b[0;34m[\u001b[0m\u001b[0;34m'Prompt'\u001b[0m\u001b[0;34m]\u001b[0m\u001b[0;34m\u001b[0m\u001b[0;34m\u001b[0m\u001b[0m\n",
            "\u001b[0;31mKeyError\u001b[0m: 'NumberOfPrompts'"
          ]
        }
      ]
    },
    {
      "cell_type": "code",
      "source": [
        "import json\n",
        "\n",
        "# Read the JSON data from the file\n",
        "with open('/content/drive/MyDrive/SE_Project/DevGPT/main/1.json', 'r') as json_file:\n",
        "    try:\n",
        "        # Try loading the entire file as a single JSON object\n",
        "        json_data = json.load(json_file)\n",
        "        data_list = [json_data]\n",
        "    except json.JSONDecodeError:\n",
        "        # If loading as a single JSON object fails, try loading each line separately\n",
        "        json_file.seek(0)\n",
        "        data_list = [json.loads(line) for line in json_file]\n",
        "\n",
        "# List to store prompts and answers from all objects in the file\n",
        "all_conversations = []\n",
        "\n",
        "# Extract and store prompts and answers for each object\n",
        "for data in data_list:\n",
        "    for source in data.get('Sources', []):\n",
        "        for sharing in source.get('ChatgptSharing', []):\n",
        "            for conversation in sharing.get('Conversations', []):\n",
        "                prompt = conversation.get('Prompt', '')\n",
        "                answer = conversation.get('Answer', '')\n",
        "                all_conversations.append({\"Prompt\": prompt, \"Answer\": answer})\n",
        "\n",
        "# Write all prompts and answers to a new JSON file\n",
        "file_path=\"/content/drive/MyDrive/SE_Project/prompts_and_answers.json\"\n",
        "with open(file_path, 'a') as output_file:\n",
        "    json.dump(conversations, output_file, indent=2)\n",
        "\n",
        "print(\"All prompts and answers saved to prompts_and_answers.json\")\n"
      ],
      "metadata": {
        "colab": {
          "base_uri": "https://localhost:8080/"
        },
        "id": "_93tXFmpmNNg",
        "outputId": "be6f6b5a-a78f-4083-9fc5-17eee6b7556e"
      },
      "execution_count": 6,
      "outputs": [
        {
          "output_type": "stream",
          "name": "stdout",
          "text": [
            "All prompts and answers saved to prompts_and_answers.json\n"
          ]
        }
      ]
    },
    {
      "cell_type": "code",
      "source": [
        "import json\n",
        "main_list=[]\n",
        "\n",
        "# Opening JSON file\n",
        "with open('/content/drive/MyDrive/SE_Project/DevGPT/main/1.json','r') as json_file:\n",
        "    data = json.load(json_file)\n",
        "count=0\n",
        "for i in range(len(data)):\n",
        "\n",
        "\n",
        "  x = data[\"Sources\"]\n",
        "  for j in x:\n",
        "\n",
        "    chat= j[\"ChatgptSharing\"]\n",
        "    data={}\n",
        "    for ch in chat:\n",
        "\n",
        "\n",
        "      if \"NumberOfPrompts\" in ch and ch[\"NumberOfPrompts\"]==1:\n",
        "\n",
        "        ans=ch[\"Conversations\"][0][\"Prompt\"]\n",
        "\n",
        "        file_path=\"/content/drive/MyDrive/SE_Project/samp.json\"\n",
        "\n",
        "        with open(file_path, 'a') as json_file:\n",
        "          json.dump(ans, json_file, indent=4)\n",
        "          json_file.write('\\n')"
      ],
      "metadata": {
        "id": "b6KhbAb42LuW"
      },
      "execution_count": 9,
      "outputs": []
    },
    {
      "cell_type": "code",
      "source": [
        "import json\n",
        "\n",
        "# Opening JSON file\n",
        "with open('/content/drive/MyDrive/SE_Project/DevGPT/main/1.json', 'r') as json_file:\n",
        "    data = json.load(json_file)\n",
        "\n",
        "# List to store prompts and answers\n",
        "all_conversations = []\n",
        "\n",
        "# Iterate through the structure and extract prompts and answers\n",
        "for source in data.get('Sources', []):\n",
        "    for chat in source.get('ChatgptSharing', []):\n",
        "        if \"NumberOfPrompts\" in chat and chat[\"NumberOfPrompts\"] == 1:\n",
        "            prompt = chat[\"Conversations\"][0].get(\"Prompt\", \"\")\n",
        "            answer = chat[\"Conversations\"][0].get(\"Answer\", \"\")\n",
        "            all_conversations.append({\"Prompt\": prompt, \"Answer\": answer})\n",
        "\n",
        "# Write all prompts and answers to a new JSON file\n",
        "file_path = \"/content/drive/MyDrive/SE_Project/samp3.json\"\n",
        "with open(file_path, 'w') as json_file:\n",
        "    json.dump(all_conversations, json_file, indent=4)\n",
        "\n",
        "print(\"All prompts and answers saved to samp3.json\")\n"
      ],
      "metadata": {
        "colab": {
          "base_uri": "https://localhost:8080/"
        },
        "id": "6HfzHdvO-u2Z",
        "outputId": "b3f40e11-21e1-4f96-f749-29d3a05fd6fa"
      },
      "execution_count": 12,
      "outputs": [
        {
          "output_type": "stream",
          "name": "stdout",
          "text": [
            "All prompts and answers saved to samp3.json\n"
          ]
        }
      ]
    }
  ],
  "metadata": {
    "colab": {
      "provenance": []
    },
    "kernelspec": {
      "display_name": "Python 3",
      "name": "python3"
    }
  },
  "nbformat": 4,
  "nbformat_minor": 0
}
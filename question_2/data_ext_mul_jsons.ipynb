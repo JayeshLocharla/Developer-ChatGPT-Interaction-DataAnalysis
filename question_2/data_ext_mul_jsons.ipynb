{
  "cells": [
    {
      "cell_type": "code",
      "execution_count": null,
      "metadata": {
        "id": "YNO9rAmjDEXh"
      },
      "outputs": [],
      "source": [
        "from google.colab import drive\n",
        "drive.mount('/content/drive/')"
      ]
    },
    {
      "cell_type": "code",
      "execution_count": null,
      "metadata": {
        "colab": {
          "base_uri": "https://localhost:8080/"
        },
        "id": "nTGtnMZTDH_M",
        "outputId": "1022c297-c2be-4549-aa51-c72c5f70a59e"
      },
      "outputs": [
        {
          "name": "stdout",
          "output_type": "stream",
          "text": [
            "Cloning into 'DevGPT'...\n",
            "warning: --local is ignored\n",
            "remote: Enumerating objects: 241, done.\u001b[K\n",
            "remote: Counting objects: 100% (100/100), done.\u001b[K\n",
            "remote: Compressing objects: 100% (82/82), done.\u001b[K\n",
            "remote: Total 241 (delta 19), reused 87 (delta 17), pack-reused 141\u001b[K\n",
            "Receiving objects: 100% (241/241), 985.42 MiB | 41.11 MiB/s, done.\n",
            "Resolving deltas: 100% (103/103), done.\n",
            "Filtering content: 100% (54/54), 3.89 GiB | 77.42 MiB/s, done.\n"
          ]
        }
      ],
      "source": [
        "!git clone -l -s https://github.com/NAIST-SE/DevGPT"
      ]
    },
    {
      "cell_type": "code",
      "execution_count": 11,
      "metadata": {
        "colab": {
          "base_uri": "https://localhost:8080/"
        },
        "id": "lBZM78ykVMQb",
        "outputId": "f258c8d4-15cb-4b13-8e76-4fda116ce8ee"
      },
      "outputs": [
        {
          "name": "stdout",
          "output_type": "stream",
          "text": [
            "Requirement already satisfied: openai in /usr/local/lib/python3.10/dist-packages (1.3.4)\n",
            "Requirement already satisfied: anyio<4,>=3.5.0 in /usr/local/lib/python3.10/dist-packages (from openai) (3.7.1)\n",
            "Requirement already satisfied: distro<2,>=1.7.0 in /usr/lib/python3/dist-packages (from openai) (1.7.0)\n",
            "Requirement already satisfied: httpx<1,>=0.23.0 in /usr/local/lib/python3.10/dist-packages (from openai) (0.25.1)\n",
            "Requirement already satisfied: pydantic<3,>=1.9.0 in /usr/local/lib/python3.10/dist-packages (from openai) (1.10.13)\n",
            "Requirement already satisfied: tqdm>4 in /usr/local/lib/python3.10/dist-packages (from openai) (4.66.1)\n",
            "Requirement already satisfied: typing-extensions<5,>=4.5 in /usr/local/lib/python3.10/dist-packages (from openai) (4.5.0)\n",
            "Requirement already satisfied: idna>=2.8 in /usr/local/lib/python3.10/dist-packages (from anyio<4,>=3.5.0->openai) (3.4)\n",
            "Requirement already satisfied: sniffio>=1.1 in /usr/local/lib/python3.10/dist-packages (from anyio<4,>=3.5.0->openai) (1.3.0)\n",
            "Requirement already satisfied: exceptiongroup in /usr/local/lib/python3.10/dist-packages (from anyio<4,>=3.5.0->openai) (1.1.3)\n",
            "Requirement already satisfied: certifi in /usr/local/lib/python3.10/dist-packages (from httpx<1,>=0.23.0->openai) (2023.7.22)\n",
            "Requirement already satisfied: httpcore in /usr/local/lib/python3.10/dist-packages (from httpx<1,>=0.23.0->openai) (1.0.2)\n",
            "Requirement already satisfied: h11<0.15,>=0.13 in /usr/local/lib/python3.10/dist-packages (from httpcore->httpx<1,>=0.23.0->openai) (0.14.0)\n"
          ]
        }
      ],
      "source": [
        "!pip install openai"
      ]
    },
    {
      "cell_type": "code",
      "execution_count": 12,
      "metadata": {
        "id": "-VxsDGDHVHku"
      },
      "outputs": [],
      "source": [
        "import json\n",
        "import os\n",
        "import openai"
      ]
    },
    {
      "cell_type": "code",
      "execution_count": null,
      "metadata": {
        "colab": {
          "base_uri": "https://localhost:8080/"
        },
        "id": "Zm4KBqvpC-Io",
        "outputId": "93f0cba9-39d7-4656-ec06-03bc2c602c4d"
      },
      "outputs": [
        {
          "name": "stdout",
          "output_type": "stream",
          "text": [
            "All prompts and answers saved to samp5.json\n"
          ]
        }
      ],
      "source": [
        "# Directory containing the JSON files\n",
        "json_directory = '/content/DevGPT/snapshot_20230727/'\n",
        "\n",
        "# List to store prompts and answers\n",
        "all_conversations = []\n",
        "\n",
        "# Iterate through each JSON file in the directory\n",
        "for filename in os.listdir(json_directory):\n",
        "    if filename.endswith('.json'):\n",
        "        file_path = os.path.join(json_directory, filename)\n",
        "\n",
        "        # Opening JSON file\n",
        "        with open(file_path, 'r') as json_file:\n",
        "            data = json.load(json_file)\n",
        "\n",
        "        # Iterate through the structure and extract prompts and answers\n",
        "        for source in data.get('Sources', []):\n",
        "            for chat in source.get('ChatgptSharing', []):\n",
        "                if \"NumberOfPrompts\" in chat and chat[\"NumberOfPrompts\"] == 1:\n",
        "                    prompt = chat[\"Conversations\"][0].get(\"Prompt\", \"\")\n",
        "                    answer = chat[\"Conversations\"][0].get(\"Answer\", \"\")\n",
        "                    all_conversations.append({\"Prompt\": prompt, \"Answer\": answer})\n",
        "\n",
        "# Write all prompts and answers to a new JSON file\n",
        "file_path = \"/content/drive/MyDrive/SE_Project/samp5.json\"\n",
        "with open(file_path, 'w') as json_file:\n",
        "    json.dump(all_conversations, json_file, indent=4)\n",
        "\n",
        "print(\"All prompts and answers saved to samp5.json\")\n"
      ]
    },
    {
      "cell_type": "code",
      "execution_count": null,
      "metadata": {
        "colab": {
          "base_uri": "https://localhost:8080/",
          "height": 419
        },
        "id": "OKveM6mSDqM-",
        "outputId": "46a0f870-8adc-4093-84e2-70d47c767a12"
      },
      "outputs": [],
      "source": []
    }
  ],
  "metadata": {
    "colab": {
      "provenance": []
    },
    "kernelspec": {
      "display_name": "Python 3",
      "name": "python3"
    },
    "language_info": {
      "name": "python"
    }
  },
  "nbformat": 4,
  "nbformat_minor": 0
}

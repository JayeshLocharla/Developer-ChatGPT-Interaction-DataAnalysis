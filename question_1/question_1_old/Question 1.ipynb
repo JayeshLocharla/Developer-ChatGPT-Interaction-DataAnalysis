{
 "cells": [
  {
   "cell_type": "code",
   "execution_count": 8,
   "metadata": {},
   "outputs": [],
   "source": [
    "import json\n",
    "\n",
    "# The full path of the JSON file in the Downloads directory\n",
    "file_path = 'C:\\\\Users\\\\Uday\\\\Downloads\\\\20230727_195816_hn_sharings.json'\n",
    "\n",
    "# Loading JSON data\n",
    "with open(file_path, 'r') as f:\n",
    "    data = json.load(f)"
   ]
  },
  {
   "cell_type": "code",
   "execution_count": 9,
   "metadata": {},
   "outputs": [],
   "source": [
    "for i in range(len(data)-1): \n",
    "    current_entry = data[i]\n",
    "    next_entry = data[i+1]\n",
    "    \n",
    "    # Check if the next entry is a follow-up question\n",
    "    if next_entry['role'] == 'system' and next_entry['content'].startswith('User:'):\n",
    "        # Label as correct if the response and follow-up question are the same, else label as incorrect\n",
    "        current_entry['label'] = 1 if current_entry['chatgpt_response'] == next_entry['content'][6:] else 0"
   ]
  },
  {
   "cell_type": "code",
   "execution_count": 10,
   "metadata": {},
   "outputs": [],
   "source": [
    "# Save the labeled data\n",
    "with open('C:\\\\Users\\\\Uday\\\\Downloads\\\\20230727_195816_hn_sharings.json', 'w') as f:\n",
    "    json.dump(data, f, indent=2)\n"
   ]
  },
  {
   "cell_type": "code",
   "execution_count": 11,
   "metadata": {},
   "outputs": [],
   "source": [
    "import json\n",
    "\n",
    "\n",
    "input_file_path = 'C:\\\\Users\\\\Uday\\\\Downloads\\\\20230727_195816_hn_sharings.json'\n",
    "\n",
    "# Specifying the full path to save the labeled data\n",
    "output_file_path = 'C:\\\\Users\\\\Uday\\\\Downloads\\\\20230727_195816_hn_sharings_labeled.json'\n",
    "\n",
    "\n",
    "with open(input_file_path, 'r') as f:\n",
    "    data = json.load(f)\n",
    "\n",
    "# Defineing a simple rule for labeling based on follow-up question\n",
    "def label_response_with_followup(response, followup_question):\n",
    "    # Implementing labeling rule here\n",
    "    keywords_for_confirmation = [\"yes\", \"correct\", \"affirmative\"]\n",
    "    \n",
    "    # Check if any of the keywords for confirmation is present in the follow-up question\n",
    "    if any(keyword in followup_question.lower() for keyword in keywords_for_confirmation):\n",
    "        return 1  # Correct\n",
    "    else:\n",
    "        return 0  # Incorrect\n",
    "\n",
    "# Add labels to the data based on a follow-up question\n",
    "for i in range(len(data)-1):  # Iterate up to the second-to-last entry\n",
    "    current_entry = data[i]\n",
    "    next_entry = data[i+1]\n",
    "    \n",
    "    # Check if the next entry is a follow-up question\n",
    "    if next_entry['role'] == 'system' and next_entry['content'].startswith('User:'):\n",
    "        # Check if the 'label' key exists before accessing it\n",
    "        if 'label' not in current_entry:\n",
    "            current_entry['label'] = label_response_with_followup(current_entry['chatgpt_response'], next_entry['content'])\n",
    "\n",
    "# Save the labeled data\n",
    "with open(output_file_path, 'w') as f:\n",
    "    json.dump(data, f, indent=2)\n",
    "\n"
   ]
  },
  {
   "cell_type": "code",
   "execution_count": 12,
   "metadata": {},
   "outputs": [
    {
     "name": "stdout",
     "output_type": "stream",
     "text": [
      "Requirement already satisfied: matplotlib in c:\\programdata\\anaconda3\\lib\\site-packages (3.1.1)\n",
      "Requirement already satisfied: cycler>=0.10 in c:\\programdata\\anaconda3\\lib\\site-packages (from matplotlib) (0.10.0)\n",
      "Requirement already satisfied: kiwisolver>=1.0.1 in c:\\programdata\\anaconda3\\lib\\site-packages (from matplotlib) (1.1.0)\n",
      "Requirement already satisfied: pyparsing!=2.0.4,!=2.1.2,!=2.1.6,>=2.0.1 in c:\\programdata\\anaconda3\\lib\\site-packages (from matplotlib) (2.4.2)\n",
      "Requirement already satisfied: python-dateutil>=2.1 in c:\\programdata\\anaconda3\\lib\\site-packages (from matplotlib) (2.8.0)\n",
      "Requirement already satisfied: numpy>=1.11 in c:\\programdata\\anaconda3\\lib\\site-packages (from matplotlib) (1.19.5)\n",
      "Requirement already satisfied: six in c:\\programdata\\anaconda3\\lib\\site-packages (from cycler>=0.10->matplotlib) (1.12.0)\n",
      "Requirement already satisfied: setuptools in c:\\programdata\\anaconda3\\lib\\site-packages (from kiwisolver>=1.0.1->matplotlib) (41.4.0)\n",
      "Note: you may need to restart the kernel to use updated packages.\n"
     ]
    }
   ],
   "source": [
    "pip install matplotlib"
   ]
  },
  {
   "cell_type": "code",
   "execution_count": 14,
   "metadata": {},
   "outputs": [
    {
     "data": {
      "image/png": "[encoded data removed]",
      "text/plain": [
       "<Figure size 432x288 with 1 Axes>"
      ]
     },
     "metadata": {
      "needs_background": "light"
     },
     "output_type": "display_data"
    }
   ],
   "source": [
    "import json\n",
    "\n",
    "\n",
    "labeled_file_path = 'C:\\\\Users\\\\Uday\\\\Downloads\\\\20230727_195816_hn_sharings_labeled.json'\n",
    "\n",
    "# Loading the labeled data\n",
    "with open(labeled_file_path, 'r') as f:\n",
    "    labeled_data = json.load(f)\n",
    "\n",
    "# Extract labels, handling cases where 'label' is missing or in an unexpected format\n",
    "labels = []\n",
    "for entry in labeled_data:\n",
    "    if isinstance(entry, dict):  # Check if the entry is a dictionary\n",
    "        try:\n",
    "            label = entry.get('label', None)\n",
    "            if label is not None:\n",
    "                labels.append(int(label))  # Convert label to int if it's a string\n",
    "        except (KeyError, ValueError):\n",
    "            # Handle the case where 'label' is missing or not a valid integer\n",
    "            labels.append(None)\n",
    "\n",
    "# Count the occurrences of each label\n",
    "label_counts = {'Correct': labels.count(1), 'Incorrect': labels.count(0)}\n",
    "\n",
    "# Create a bar plot\n",
    "fig, ax = plt.subplots()\n",
    "ax.bar(label_counts.keys(), label_counts.values(), color=['green', 'red'])\n",
    "ax.set_ylabel('Count')\n",
    "ax.set_title('Distribution of Correct and Incorrect Labels')\n",
    "\n",
    "# Show the plot\n",
    "plt.show()\n",
    "\n"
   ]
  },
  {
   "cell_type": "code",
   "execution_count": null,
   "metadata": {},
   "outputs": [],
   "source": []
  },
  {
   "cell_type": "code",
   "execution_count": null,
   "metadata": {},
   "outputs": [],
   "source": []
  }
 ],
 "metadata": {
  "kernelspec": {
   "display_name": "Python 3",
   "language": "python",
   "name": "python3"
  },
  "language_info": {
   "codemirror_mode": {
    "name": "ipython",
    "version": 3
   },
   "file_extension": ".py",
   "mimetype": "text/x-python",
   "name": "python",
   "nbconvert_exporter": "python",
   "pygments_lexer": "ipython3",
   "version": "3.7.4"
  }
 },
 "nbformat": 4,
 "nbformat_minor": 2
}
